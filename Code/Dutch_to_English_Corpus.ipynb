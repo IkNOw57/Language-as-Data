{
 "cells": [
  {
   "cell_type": "code",
   "execution_count": 1,
   "id": "779b853e-a227-405a-88a1-974f9eb1eb98",
   "metadata": {},
   "outputs": [],
   "source": [
    "import os\n",
    "import pandas as pd\n",
    "import re\n",
    "import sys\n",
    "import stanza\n",
    "from collections import Counter\n",
    "import pickle\n",
    "from bs4 import BeautifulSoup\n",
    "import statistics\n",
    "directory_1 = r'..\\LaD\\Corpora\\dpc1.0p2\\data\\html\\journ'\n"
   ]
  },
  {
   "cell_type": "code",
   "execution_count": 2,
   "id": "4c4b7f87-7ee4-4069-badd-45e0c51d3258",
   "metadata": {
    "scrolled": true
   },
   "outputs": [
    {
     "data": {
      "application/vnd.jupyter.widget-view+json": {
       "model_id": "f7631222fc324068a4811506350b2507",
       "version_major": 2,
       "version_minor": 0
      },
      "text/plain": [
       "Downloading https://raw.githubusercontent.com/stanfordnlp/stanza-resources/main/resources_1.9.0.json:   0%|   …"
      ]
     },
     "metadata": {},
     "output_type": "display_data"
    },
    {
     "name": "stderr",
     "output_type": "stream",
     "text": [
      "2024-11-27 21:08:34 INFO: Downloaded file to C:\\Users\\Ino\\stanza_resources\\resources.json\n",
      "2024-11-27 21:08:34 INFO: Downloading default packages for language: nl (Dutch) ...\n",
      "2024-11-27 21:08:34 INFO: File exists: C:\\Users\\Ino\\stanza_resources\\nl\\default.zip\n",
      "2024-11-27 21:08:36 INFO: Finished downloading models and saved to C:\\Users\\Ino\\stanza_resources\n",
      "2024-11-27 21:08:36 INFO: Checking for updates to resources.json in case models have been updated.  Note: this behavior can be turned off with download_method=None or download_method=DownloadMethod.REUSE_RESOURCES\n"
     ]
    },
    {
     "data": {
      "application/vnd.jupyter.widget-view+json": {
       "model_id": "9f635c2e565843bb9b3044f457e1599d",
       "version_major": 2,
       "version_minor": 0
      },
      "text/plain": [
       "Downloading https://raw.githubusercontent.com/stanfordnlp/stanza-resources/main/resources_1.9.0.json:   0%|   …"
      ]
     },
     "metadata": {},
     "output_type": "display_data"
    },
    {
     "name": "stderr",
     "output_type": "stream",
     "text": [
      "2024-11-27 21:08:36 INFO: Downloaded file to C:\\Users\\Ino\\stanza_resources\\resources.json\n",
      "2024-11-27 21:08:37 INFO: Loading these models for language: nl (Dutch):\n",
      "===============================\n",
      "| Processor | Package         |\n",
      "-------------------------------\n",
      "| tokenize  | alpino          |\n",
      "| mwt       | alpino          |\n",
      "| pos       | alpino_charlm   |\n",
      "| lemma     | alpino_nocharlm |\n",
      "| depparse  | alpino_charlm   |\n",
      "| ner       | conll02         |\n",
      "===============================\n",
      "\n",
      "2024-11-27 21:08:37 INFO: Using device: cpu\n",
      "2024-11-27 21:08:37 INFO: Loading: tokenize\n",
      "C:\\Users\\Ino\\anaconda3\\envs\\LaD\\lib\\site-packages\\stanza\\models\\tokenization\\trainer.py:82: FutureWarning: You are using `torch.load` with `weights_only=False` (the current default value), which uses the default pickle module implicitly. It is possible to construct malicious pickle data which will execute arbitrary code during unpickling (See https://github.com/pytorch/pytorch/blob/main/SECURITY.md#untrusted-models for more details). In a future release, the default value for `weights_only` will be flipped to `True`. This limits the functions that could be executed during unpickling. Arbitrary objects will no longer be allowed to be loaded via this mode unless they are explicitly allowlisted by the user via `torch.serialization.add_safe_globals`. We recommend you start setting `weights_only=True` for any use case where you don't have full control of the loaded file. Please open an issue on GitHub for any issues related to this experimental feature.\n",
      "  checkpoint = torch.load(filename, lambda storage, loc: storage)\n",
      "2024-11-27 21:08:38 INFO: Loading: mwt\n",
      "C:\\Users\\Ino\\anaconda3\\envs\\LaD\\lib\\site-packages\\stanza\\models\\mwt\\trainer.py:201: FutureWarning: You are using `torch.load` with `weights_only=False` (the current default value), which uses the default pickle module implicitly. It is possible to construct malicious pickle data which will execute arbitrary code during unpickling (See https://github.com/pytorch/pytorch/blob/main/SECURITY.md#untrusted-models for more details). In a future release, the default value for `weights_only` will be flipped to `True`. This limits the functions that could be executed during unpickling. Arbitrary objects will no longer be allowed to be loaded via this mode unless they are explicitly allowlisted by the user via `torch.serialization.add_safe_globals`. We recommend you start setting `weights_only=True` for any use case where you don't have full control of the loaded file. Please open an issue on GitHub for any issues related to this experimental feature.\n",
      "  checkpoint = torch.load(filename, lambda storage, loc: storage)\n",
      "2024-11-27 21:08:38 INFO: Loading: pos\n",
      "C:\\Users\\Ino\\anaconda3\\envs\\LaD\\lib\\site-packages\\stanza\\models\\pos\\trainer.py:139: FutureWarning: You are using `torch.load` with `weights_only=False` (the current default value), which uses the default pickle module implicitly. It is possible to construct malicious pickle data which will execute arbitrary code during unpickling (See https://github.com/pytorch/pytorch/blob/main/SECURITY.md#untrusted-models for more details). In a future release, the default value for `weights_only` will be flipped to `True`. This limits the functions that could be executed during unpickling. Arbitrary objects will no longer be allowed to be loaded via this mode unless they are explicitly allowlisted by the user via `torch.serialization.add_safe_globals`. We recommend you start setting `weights_only=True` for any use case where you don't have full control of the loaded file. Please open an issue on GitHub for any issues related to this experimental feature.\n",
      "  checkpoint = torch.load(filename, lambda storage, loc: storage)\n",
      "C:\\Users\\Ino\\anaconda3\\envs\\LaD\\lib\\site-packages\\stanza\\models\\common\\pretrain.py:56: FutureWarning: You are using `torch.load` with `weights_only=False` (the current default value), which uses the default pickle module implicitly. It is possible to construct malicious pickle data which will execute arbitrary code during unpickling (See https://github.com/pytorch/pytorch/blob/main/SECURITY.md#untrusted-models for more details). In a future release, the default value for `weights_only` will be flipped to `True`. This limits the functions that could be executed during unpickling. Arbitrary objects will no longer be allowed to be loaded via this mode unless they are explicitly allowlisted by the user via `torch.serialization.add_safe_globals`. We recommend you start setting `weights_only=True` for any use case where you don't have full control of the loaded file. Please open an issue on GitHub for any issues related to this experimental feature.\n",
      "  data = torch.load(self.filename, lambda storage, loc: storage)\n",
      "C:\\Users\\Ino\\anaconda3\\envs\\LaD\\lib\\site-packages\\stanza\\models\\common\\char_model.py:271: FutureWarning: You are using `torch.load` with `weights_only=False` (the current default value), which uses the default pickle module implicitly. It is possible to construct malicious pickle data which will execute arbitrary code during unpickling (See https://github.com/pytorch/pytorch/blob/main/SECURITY.md#untrusted-models for more details). In a future release, the default value for `weights_only` will be flipped to `True`. This limits the functions that could be executed during unpickling. Arbitrary objects will no longer be allowed to be loaded via this mode unless they are explicitly allowlisted by the user via `torch.serialization.add_safe_globals`. We recommend you start setting `weights_only=True` for any use case where you don't have full control of the loaded file. Please open an issue on GitHub for any issues related to this experimental feature.\n",
      "  state = torch.load(filename, lambda storage, loc: storage)\n",
      "2024-11-27 21:08:38 INFO: Loading: lemma\n",
      "C:\\Users\\Ino\\anaconda3\\envs\\LaD\\lib\\site-packages\\stanza\\models\\lemma\\trainer.py:239: FutureWarning: You are using `torch.load` with `weights_only=False` (the current default value), which uses the default pickle module implicitly. It is possible to construct malicious pickle data which will execute arbitrary code during unpickling (See https://github.com/pytorch/pytorch/blob/main/SECURITY.md#untrusted-models for more details). In a future release, the default value for `weights_only` will be flipped to `True`. This limits the functions that could be executed during unpickling. Arbitrary objects will no longer be allowed to be loaded via this mode unless they are explicitly allowlisted by the user via `torch.serialization.add_safe_globals`. We recommend you start setting `weights_only=True` for any use case where you don't have full control of the loaded file. Please open an issue on GitHub for any issues related to this experimental feature.\n",
      "  checkpoint = torch.load(filename, lambda storage, loc: storage)\n",
      "2024-11-27 21:08:38 INFO: Loading: depparse\n",
      "C:\\Users\\Ino\\anaconda3\\envs\\LaD\\lib\\site-packages\\stanza\\models\\depparse\\trainer.py:194: FutureWarning: You are using `torch.load` with `weights_only=False` (the current default value), which uses the default pickle module implicitly. It is possible to construct malicious pickle data which will execute arbitrary code during unpickling (See https://github.com/pytorch/pytorch/blob/main/SECURITY.md#untrusted-models for more details). In a future release, the default value for `weights_only` will be flipped to `True`. This limits the functions that could be executed during unpickling. Arbitrary objects will no longer be allowed to be loaded via this mode unless they are explicitly allowlisted by the user via `torch.serialization.add_safe_globals`. We recommend you start setting `weights_only=True` for any use case where you don't have full control of the loaded file. Please open an issue on GitHub for any issues related to this experimental feature.\n",
      "  checkpoint = torch.load(filename, lambda storage, loc: storage)\n",
      "2024-11-27 21:08:38 INFO: Loading: ner\n",
      "C:\\Users\\Ino\\anaconda3\\envs\\LaD\\lib\\site-packages\\stanza\\models\\ner\\trainer.py:197: FutureWarning: You are using `torch.load` with `weights_only=False` (the current default value), which uses the default pickle module implicitly. It is possible to construct malicious pickle data which will execute arbitrary code during unpickling (See https://github.com/pytorch/pytorch/blob/main/SECURITY.md#untrusted-models for more details). In a future release, the default value for `weights_only` will be flipped to `True`. This limits the functions that could be executed during unpickling. Arbitrary objects will no longer be allowed to be loaded via this mode unless they are explicitly allowlisted by the user via `torch.serialization.add_safe_globals`. We recommend you start setting `weights_only=True` for any use case where you don't have full control of the loaded file. Please open an issue on GitHub for any issues related to this experimental feature.\n",
      "  checkpoint = torch.load(filename, lambda storage, loc: storage)\n",
      "2024-11-27 21:08:39 INFO: Done loading processors!\n"
     ]
    }
   ],
   "source": [
    "language = 'nl'\n",
    "stanza.download(language)\n",
    "nlp = stanza.Pipeline(language)"
   ]
  },
  {
   "cell_type": "code",
   "execution_count": 3,
   "id": "ab11c375-b431-48c1-9ac7-af6e789a0d4e",
   "metadata": {},
   "outputs": [],
   "source": [
    "lines = []\n",
    "\n",
    "for dir in os.listdir(directory_1):\n",
    "    dir_in_directory = os.listdir(directory_1+\"\\\\\"+dir)\n",
    "    for file in dir_in_directory:\n",
    "        with open(directory_1+\"\\\\\"+dir+\"\\\\\"+file,'r',encoding = 'utf-8') as infile:\n",
    "            content = infile.read()\n",
    "            parser_content = BeautifulSoup(content, 'html5lib')\n",
    "            html_text = parser_content.get_text()\n",
    "            text_with_newlines = re.sub('\\[.*','',html_text)\n",
    "            text_elements = re.split(r'[\\n]+', text_with_newlines)\n",
    "            \n",
    "            for entry in text_elements:\n",
    "                if len(entry.split(' '))>1:\n",
    "                    lines.append(entry)\n",
    "        \n"
   ]
  },
  {
   "cell_type": "code",
   "execution_count": 4,
   "id": "4cf7a007-38bf-4c84-a980-1bf5ecbbab31",
   "metadata": {
    "scrolled": true
   },
   "outputs": [],
   "source": [
    "pairs = []\n",
    "for line in lines:\n",
    "    # print(line)\n",
    "    splitted_line = re.split(r'\\\"\"',line)\n",
    "    if len(splitted_line)==2:\n",
    "        # if len(splitted_line[0])>6 and len(splitted_line[1])>6: \n",
    "        pairs.append(splitted_line)\n",
    "        \n",
    "        "
   ]
  },
  {
   "cell_type": "code",
   "execution_count": 5,
   "id": "ed85355a-220b-48ce-b84d-2b80f9ae6e26",
   "metadata": {},
   "outputs": [],
   "source": [
    "corpus_df = pd.DataFrame(columns=[\"Dutch_Sentence\", \"English_Sentence\", \"Dutch Sentence Length\",\"English Sentence Length\",\"Dutch Type-Token Ratio\",\"English Type-Token Ratio\"])\n",
    "list_dutch_sentences = []\n",
    "list_english_sentences = []\n",
    "processed_dutch_sentences = []\n",
    "processed_english_sentences = []\n",
    "i=0\n",
    "for pair in pairs:\n",
    "    \n",
    "    dutch_sentence = pair[0]\n",
    "    dutch_sentence = re.sub(r'\\'|\\\"','',dutch_sentence)\n",
    "    \n",
    "    english_sentence = pair[1]\n",
    "    english_sentence = re.sub(r'\\'|\\\"','',english_sentence)\n",
    "    if english_sentence == dutch_sentence:\n",
    "        continue\n",
    "    \n",
    "    processed_dutch_sentence = nlp.process(dutch_sentence)\n",
    "    processed_english_sentence = nlp.process(english_sentence)\n",
    "    \n",
    "    processed_dutch_sentences.append(processed_dutch_sentence)\n",
    "    processed_english_sentences.append(processed_english_sentence)\n",
    "    \n",
    "\n",
    "  \n",
    "    \n",
    "    dutch_sentence_length = len(dutch_sentence.split(' '))\n",
    "    english_sentence_length = len(english_sentence.split(' '))\n",
    "    \n",
    "    list_dutch_sentences.append(dutch_sentence)\n",
    "    list_english_sentences.append(english_sentence)\n",
    "    \n",
    "    corpus_df.loc[i] = [dutch_sentence,english_sentence,dutch_sentence_length,english_sentence_length,0,0]\n",
    "    i+=1"
   ]
  },
  {
   "cell_type": "code",
   "execution_count": 6,
   "id": "77650d6e-8e30-4acc-a9b4-9ef13fff49e7",
   "metadata": {},
   "outputs": [
    {
     "data": {
      "text/html": [
       "<div>\n",
       "<style scoped>\n",
       "    .dataframe tbody tr th:only-of-type {\n",
       "        vertical-align: middle;\n",
       "    }\n",
       "\n",
       "    .dataframe tbody tr th {\n",
       "        vertical-align: top;\n",
       "    }\n",
       "\n",
       "    .dataframe thead th {\n",
       "        text-align: right;\n",
       "    }\n",
       "</style>\n",
       "<table border=\"1\" class=\"dataframe\">\n",
       "  <thead>\n",
       "    <tr style=\"text-align: right;\">\n",
       "      <th></th>\n",
       "      <th>Dutch_Sentence</th>\n",
       "      <th>English_Sentence</th>\n",
       "      <th>Dutch Sentence Length</th>\n",
       "      <th>English Sentence Length</th>\n",
       "      <th>Dutch Type-Token Ratio</th>\n",
       "      <th>English Type-Token Ratio</th>\n",
       "    </tr>\n",
       "  </thead>\n",
       "  <tbody>\n",
       "    <tr>\n",
       "      <th>0</th>\n",
       "      <td>Veel Afrikaanse vrouwen gaan naar huis met een...</td>\n",
       "      <td>Many African women return home with a fistula,...</td>\n",
       "      <td>12</td>\n",
       "      <td>12</td>\n",
       "      <td>0</td>\n",
       "      <td>0</td>\n",
       "    </tr>\n",
       "    <tr>\n",
       "      <th>1</th>\n",
       "      <td>Beschouw ons niet als de moppentrommel van de ...</td>\n",
       "      <td>Do not consider us as the joke bin of the univ...</td>\n",
       "      <td>9</td>\n",
       "      <td>11</td>\n",
       "      <td>0</td>\n",
       "      <td>0</td>\n",
       "    </tr>\n",
       "    <tr>\n",
       "      <th>2</th>\n",
       "      <td>Er is al een patiëntje geholpen met onze techniek</td>\n",
       "      <td>Our technique has already helped a patient</td>\n",
       "      <td>9</td>\n",
       "      <td>7</td>\n",
       "      <td>0</td>\n",
       "      <td>0</td>\n",
       "    </tr>\n",
       "    <tr>\n",
       "      <th>3</th>\n",
       "      <td>De schedelcontouren worden uit de data van de ...</td>\n",
       "      <td>The cranial contours are filtered from the sca...</td>\n",
       "      <td>17</td>\n",
       "      <td>17</td>\n",
       "      <td>0</td>\n",
       "      <td>0</td>\n",
       "    </tr>\n",
       "    <tr>\n",
       "      <th>4</th>\n",
       "      <td>Nadat we voor die schedels de computerprocedur...</td>\n",
       "      <td>After we ran the computerized procedure for th...</td>\n",
       "      <td>38</td>\n",
       "      <td>40</td>\n",
       "      <td>0</td>\n",
       "      <td>0</td>\n",
       "    </tr>\n",
       "    <tr>\n",
       "      <th>...</th>\n",
       "      <td>...</td>\n",
       "      <td>...</td>\n",
       "      <td>...</td>\n",
       "      <td>...</td>\n",
       "      <td>...</td>\n",
       "      <td>...</td>\n",
       "    </tr>\n",
       "    <tr>\n",
       "      <th>310</th>\n",
       "      <td>Ik werk er mee aan een Europees actieplan voor...</td>\n",
       "      <td>I am working on a European action plan for tel...</td>\n",
       "      <td>20</td>\n",
       "      <td>19</td>\n",
       "      <td>0</td>\n",
       "      <td>0</td>\n",
       "    </tr>\n",
       "    <tr>\n",
       "      <th>311</th>\n",
       "      <td>Nederland is in de eerste plaats een groot lab...</td>\n",
       "      <td>The Netherlands is, first and foremost, a huge...</td>\n",
       "      <td>12</td>\n",
       "      <td>14</td>\n",
       "      <td>0</td>\n",
       "      <td>0</td>\n",
       "    </tr>\n",
       "    <tr>\n",
       "      <th>312</th>\n",
       "      <td>Wij zijn als het ware het oog en oor van Vlaan...</td>\n",
       "      <td>In a sense were the eyes and ears of Flanders ...</td>\n",
       "      <td>14</td>\n",
       "      <td>11</td>\n",
       "      <td>0</td>\n",
       "      <td>0</td>\n",
       "    </tr>\n",
       "    <tr>\n",
       "      <th>313</th>\n",
       "      <td>De Nederlandse staatsveiligheid kon zich niet ...</td>\n",
       "      <td>The Dutch State Security Service couldnt belie...</td>\n",
       "      <td>15</td>\n",
       "      <td>16</td>\n",
       "      <td>0</td>\n",
       "      <td>0</td>\n",
       "    </tr>\n",
       "    <tr>\n",
       "      <th>314</th>\n",
       "      <td>Het is belangrijk dat we samen de buitenlandse...</td>\n",
       "      <td>Its important that we join forces in foreign m...</td>\n",
       "      <td>26</td>\n",
       "      <td>27</td>\n",
       "      <td>0</td>\n",
       "      <td>0</td>\n",
       "    </tr>\n",
       "  </tbody>\n",
       "</table>\n",
       "<p>315 rows × 6 columns</p>\n",
       "</div>"
      ],
      "text/plain": [
       "                                        Dutch_Sentence  \\\n",
       "0    Veel Afrikaanse vrouwen gaan naar huis met een...   \n",
       "1    Beschouw ons niet als de moppentrommel van de ...   \n",
       "2    Er is al een patiëntje geholpen met onze techniek   \n",
       "3    De schedelcontouren worden uit de data van de ...   \n",
       "4    Nadat we voor die schedels de computerprocedur...   \n",
       "..                                                 ...   \n",
       "310  Ik werk er mee aan een Europees actieplan voor...   \n",
       "311  Nederland is in de eerste plaats een groot lab...   \n",
       "312  Wij zijn als het ware het oog en oor van Vlaan...   \n",
       "313  De Nederlandse staatsveiligheid kon zich niet ...   \n",
       "314  Het is belangrijk dat we samen de buitenlandse...   \n",
       "\n",
       "                                      English_Sentence  Dutch Sentence Length  \\\n",
       "0    Many African women return home with a fistula,...                     12   \n",
       "1    Do not consider us as the joke bin of the univ...                      9   \n",
       "2           Our technique has already helped a patient                      9   \n",
       "3    The cranial contours are filtered from the sca...                     17   \n",
       "4    After we ran the computerized procedure for th...                     38   \n",
       "..                                                 ...                    ...   \n",
       "310  I am working on a European action plan for tel...                     20   \n",
       "311  The Netherlands is, first and foremost, a huge...                     12   \n",
       "312  In a sense were the eyes and ears of Flanders ...                     14   \n",
       "313  The Dutch State Security Service couldnt belie...                     15   \n",
       "314  Its important that we join forces in foreign m...                     26   \n",
       "\n",
       "     English Sentence Length  Dutch Type-Token Ratio  English Type-Token Ratio  \n",
       "0                         12                       0                         0  \n",
       "1                         11                       0                         0  \n",
       "2                          7                       0                         0  \n",
       "3                         17                       0                         0  \n",
       "4                         40                       0                         0  \n",
       "..                       ...                     ...                       ...  \n",
       "310                       19                       0                         0  \n",
       "311                       14                       0                         0  \n",
       "312                       11                       0                         0  \n",
       "313                       16                       0                         0  \n",
       "314                       27                       0                         0  \n",
       "\n",
       "[315 rows x 6 columns]"
      ]
     },
     "execution_count": 6,
     "metadata": {},
     "output_type": "execute_result"
    }
   ],
   "source": [
    "corpus_df\n"
   ]
  },
  {
   "cell_type": "code",
   "execution_count": 8,
   "id": "8f4f1546-580f-4e60-a436-8477650ec273",
   "metadata": {},
   "outputs": [],
   "source": [
    "#idiom_pairs = mt_list\n",
    "filename ='.\\Corpora\\idiom_pairs.txt'\n",
    "with open(filename, 'r') as infile:\n",
    "    idiom_pairs = infile.read()\n",
    "    idiom_pairs = idiom_pairs.split(\"], [\")\n",
    "filename ='.\\Corpora\\diminutive_pairs.txt'\n",
    "with open(filename, 'r') as infile:\n",
    "    diminutive_pairs = infile.read()\n",
    "    diminutive_pairs = diminutive_pairs.split(\"], [\")\n",
    "filename ='.\\Corpora\\modal_particles_pairs.txt'\n",
    "with open(filename, 'r') as infile:\n",
    "    modal_particles_pairs = infile.read()\n",
    "    modal_particles_pairs = modal_particles_pairs.split(\"], [\")\n",
    "\n",
    "synthethic_pairs = []\n",
    "# print(type(idiom_pairs))\n",
    "for pair in idiom_pairs:\n",
    "    synthethic_pairs = synthethic_pairs + [pair]\n",
    "for pair in diminutive_pairs:\n",
    "    # synthethic_pairs.append(pair)\n",
    "    synthethic_pairs = synthethic_pairs + [pair]\n",
    "for pair in modal_particles_pairs:\n",
    "    # synthethic_pairs.append(pair)\n",
    "    synthethic_pairs = synthethic_pairs + [pair]\n",
    "    \n",
    "\n",
    "synthetic_df = pd.DataFrame(columns=[\"Dutch_Sentence\", \"English_Sentence\", \"Dutch Sentence Length\",\"English Sentence Length\",\"Dutch Type-Token Ratio\",\"English Type-Token Ratio\"])\n",
    "i=315\n",
    "for pair in synthethic_pairs:\n",
    "    if '[[' in pair:\n",
    "        pair = pair.replace('[[','')\n",
    "    if ']]' in pair:\n",
    "        pair = pair.replace(']]','')\n",
    "    # print(pair)\n",
    "\n",
    "    pair = re.split(\"\\', '|\\\", \\\"|\\', \\\"\", pair)\n",
    "    dutch_sentence = pair[0]\n",
    "    dutch_sentence = re.sub(r'\\'|\\\"','',dutch_sentence)\n",
    "    \n",
    "    english_sentence = pair[1]\n",
    "    english_sentence = re.sub(r'\\'|\\\"','',english_sentence)\n",
    "\n",
    "    if english_sentence == dutch_sentence:\n",
    "        continue\n",
    "    dutch_sentence_length = len(dutch_sentence.split(' '))\n",
    "    english_sentence_length = len(english_sentence.split(' '))\n",
    "    \n",
    "    processed_dutch_sentences.append(nlp.process(dutch_sentence))\n",
    "    processed_english_sentences.append(nlp.process(english_sentence))\n",
    "    list_dutch_sentences.append(dutch_sentence)\n",
    "    list_english_sentences.append(english_sentence)\n",
    "    \n",
    "    synthetic_df.loc[i] = [dutch_sentence,english_sentence,dutch_sentence_length,english_sentence_length,0,0]\n",
    "    i+=1"
   ]
  },
  {
   "cell_type": "code",
   "execution_count": 9,
   "id": "48eabbc1-adfc-4826-9663-c679337a71ed",
   "metadata": {},
   "outputs": [],
   "source": [
    "corpus_df = pd.concat([corpus_df,synthetic_df])"
   ]
  },
  {
   "cell_type": "code",
   "execution_count": 10,
   "id": "d0da7f7c-123e-4b0d-94cc-243c1f0bc089",
   "metadata": {},
   "outputs": [],
   "source": [
    "corpus_df.to_pickle('.\\Corpora\\corpus_df.pkl')"
   ]
  },
  {
   "cell_type": "code",
   "execution_count": 11,
   "id": "eec27874-ee31-4d37-a1de-8ffbd85fef53",
   "metadata": {},
   "outputs": [],
   "source": [
    "\n",
    "# dutch_ttr = []\n",
    "# dutch_avg_sentence_len = []\n",
    "# token_frequencies_dutch = Counter()\n",
    "# english_ttr = []\n",
    "# english_avg_sentence_len = []\n",
    "# token_frequencies_english = Counter()\n",
    "\n",
    "# for article in processed_dutch_sentences:    # Calculate TTR\n",
    "    \n",
    "    \n",
    "#     for sentence in article.sentences:\n",
    "#         all_tokens =[token.text for token in sentence.tokens]\n",
    "#         token_frequencies_dutch.update(all_tokens)\n",
    "\n",
    "#     num_types = len(token_frequencies_dutch.keys())\n",
    "#     num_tokens = sum(token_frequencies_dutch.values())\n",
    "#     tt_ratio = num_types/float(num_tokens)\n",
    "#     dutch_ttr.append(tt_ratio)\n",
    "\n",
    " \n",
    "   \n",
    "\n",
    "# for article in processed_english_sentences:    # Calculate TTR\n",
    "        \n",
    "#     for sentence in article.sentences:\n",
    "#         all_tokens =[token.text for token in sentence.tokens]\n",
    "#         token_frequencies_english.update(all_tokens)\n",
    "\n",
    "#     num_types = len(token_frequencies_english.keys())\n",
    "#     num_tokens = sum(token_frequencies_english.values())\n",
    "#     tt_ratio = num_types/float(num_tokens)\n",
    "#     english_ttr.append(tt_ratio)\n",
    "\n",
    "\n",
    "    \n",
    " "
   ]
  },
  {
   "cell_type": "code",
   "execution_count": 12,
   "id": "53b6038f-577a-48f2-9f61-b7c18199dccf",
   "metadata": {},
   "outputs": [],
   "source": [
    "# print(dutch_ttr)"
   ]
  },
  {
   "cell_type": "code",
   "execution_count": 13,
   "id": "c3224400-b3a4-425b-b091-11160775d3d4",
   "metadata": {},
   "outputs": [],
   "source": [
    "# print(english_ttr)\n"
   ]
  },
  {
   "cell_type": "code",
   "execution_count": 14,
   "id": "de71363f-e4a0-442d-ac90-4ad19dd43c85",
   "metadata": {},
   "outputs": [],
   "source": [
    "# for pair in pairs:\n",
    "#     print(pair,'\\n')"
   ]
  },
  {
   "cell_type": "code",
   "execution_count": 15,
   "id": "e1eb06b1-31d0-4357-872d-de6a83dad110",
   "metadata": {},
   "outputs": [
    {
     "data": {
      "image/png": "[encoded data removed]",
      "text/plain": [
       "<Figure size 500x500 with 1 Axes>"
      ]
     },
     "metadata": {},
     "output_type": "display_data"
    }
   ],
   "source": [
    "import matplotlib.pyplot as plt\n",
    "import seaborn as sb\n",
    "plot = sb.lmplot(corpus_df, x=\"Dutch Sentence Length\", y=\"English Sentence Length\",hue='Dutch Sentence Length',legend = False, fit_reg=False)\n",
    "plot.savefig('./sentence_length.png')"
   ]
  },
  {
   "cell_type": "code",
   "execution_count": 16,
   "id": "59a1c0f5-a598-4c48-b9a1-1d2f5ff30c76",
   "metadata": {},
   "outputs": [
    {
     "data": {
      "text/html": [
       "<div>\n",
       "<style scoped>\n",
       "    .dataframe tbody tr th:only-of-type {\n",
       "        vertical-align: middle;\n",
       "    }\n",
       "\n",
       "    .dataframe tbody tr th {\n",
       "        vertical-align: top;\n",
       "    }\n",
       "\n",
       "    .dataframe thead th {\n",
       "        text-align: right;\n",
       "    }\n",
       "</style>\n",
       "<table border=\"1\" class=\"dataframe\">\n",
       "  <thead>\n",
       "    <tr style=\"text-align: right;\">\n",
       "      <th></th>\n",
       "      <th>Dutch Sentence Length</th>\n",
       "      <th>English Sentence Length</th>\n",
       "      <th>Dutch Type-Token Ratio</th>\n",
       "      <th>English Type-Token Ratio</th>\n",
       "    </tr>\n",
       "  </thead>\n",
       "  <tbody>\n",
       "    <tr>\n",
       "      <th>count</th>\n",
       "      <td>393.000000</td>\n",
       "      <td>393.000000</td>\n",
       "      <td>393.0</td>\n",
       "      <td>393.0</td>\n",
       "    </tr>\n",
       "    <tr>\n",
       "      <th>mean</th>\n",
       "      <td>15.320611</td>\n",
       "      <td>16.213740</td>\n",
       "      <td>0.0</td>\n",
       "      <td>0.0</td>\n",
       "    </tr>\n",
       "    <tr>\n",
       "      <th>std</th>\n",
       "      <td>10.402316</td>\n",
       "      <td>11.233837</td>\n",
       "      <td>0.0</td>\n",
       "      <td>0.0</td>\n",
       "    </tr>\n",
       "    <tr>\n",
       "      <th>min</th>\n",
       "      <td>2.000000</td>\n",
       "      <td>1.000000</td>\n",
       "      <td>0.0</td>\n",
       "      <td>0.0</td>\n",
       "    </tr>\n",
       "    <tr>\n",
       "      <th>25%</th>\n",
       "      <td>8.000000</td>\n",
       "      <td>8.000000</td>\n",
       "      <td>0.0</td>\n",
       "      <td>0.0</td>\n",
       "    </tr>\n",
       "    <tr>\n",
       "      <th>50%</th>\n",
       "      <td>12.000000</td>\n",
       "      <td>13.000000</td>\n",
       "      <td>0.0</td>\n",
       "      <td>0.0</td>\n",
       "    </tr>\n",
       "    <tr>\n",
       "      <th>75%</th>\n",
       "      <td>20.000000</td>\n",
       "      <td>21.000000</td>\n",
       "      <td>0.0</td>\n",
       "      <td>0.0</td>\n",
       "    </tr>\n",
       "    <tr>\n",
       "      <th>max</th>\n",
       "      <td>67.000000</td>\n",
       "      <td>72.000000</td>\n",
       "      <td>0.0</td>\n",
       "      <td>0.0</td>\n",
       "    </tr>\n",
       "  </tbody>\n",
       "</table>\n",
       "</div>"
      ],
      "text/plain": [
       "       Dutch Sentence Length  English Sentence Length  Dutch Type-Token Ratio  \\\n",
       "count             393.000000               393.000000                   393.0   \n",
       "mean               15.320611                16.213740                     0.0   \n",
       "std                10.402316                11.233837                     0.0   \n",
       "min                 2.000000                 1.000000                     0.0   \n",
       "25%                 8.000000                 8.000000                     0.0   \n",
       "50%                12.000000                13.000000                     0.0   \n",
       "75%                20.000000                21.000000                     0.0   \n",
       "max                67.000000                72.000000                     0.0   \n",
       "\n",
       "       English Type-Token Ratio  \n",
       "count                     393.0  \n",
       "mean                        0.0  \n",
       "std                         0.0  \n",
       "min                         0.0  \n",
       "25%                         0.0  \n",
       "50%                         0.0  \n",
       "75%                         0.0  \n",
       "max                         0.0  "
      ]
     },
     "execution_count": 16,
     "metadata": {},
     "output_type": "execute_result"
    }
   ],
   "source": [
    "corpus_df.describe()\n"
   ]
  },
  {
   "cell_type": "code",
   "execution_count": 17,
   "id": "4b4f3c86-a48d-400c-95f8-0ca2e994e92c",
   "metadata": {},
   "outputs": [],
   "source": [
    "modal_particles = ['maar','toch','nou','wel','even','eens','gewoon','misschien','soms']\n",
    "# pattern = 'eens'\n",
    "count_particle = []\n",
    "containing_pattern = []\n",
    "for sentence in list_dutch_sentences:\n",
    "    for particle in modal_particles:\n",
    "        if particle in sentence:\n",
    "            containing_pattern.append(sentence)\n",
    "            count_particle.append(particle)\n",
    "    "
   ]
  },
  {
   "cell_type": "code",
   "execution_count": 18,
   "id": "cc1ad57d-dcf1-4dea-96fa-3edd5b0ca5bc",
   "metadata": {},
   "outputs": [
    {
     "name": "stdout",
     "output_type": "stream",
     "text": [
      "125\n",
      "125\n"
     ]
    }
   ],
   "source": [
    "print(len(containing_pattern))\n",
    "print(len(count_particle))"
   ]
  },
  {
   "cell_type": "code",
   "execution_count": 19,
   "id": "9277c337-1ff9-420e-aaec-5aaa4ef7e975",
   "metadata": {},
   "outputs": [],
   "source": [
    "from collections import Counter\n",
    "counts_particle = Counter(count_particle)\n",
    "counts_label = counts_particle.keys()\n"
   ]
  },
  {
   "cell_type": "code",
   "execution_count": 29,
   "id": "998392e2-eaa9-4d27-9867-5a12e5572b24",
   "metadata": {},
   "outputs": [
    {
     "data": {
      "image/png": "[encoded data removed]",
      "text/plain": [
       "<Figure size 640x480 with 1 Axes>"
      ]
     },
     "metadata": {},
     "output_type": "display_data"
    }
   ],
   "source": [
    "plot2 =sb.barplot(counts_particle)\n"
   ]
  },
  {
   "cell_type": "code",
   "execution_count": 21,
   "id": "764f3de1-3986-440e-b16a-7212f4f1053a",
   "metadata": {},
   "outputs": [],
   "source": [
    "diminutives = ['tje','pje','kje','je','etje']\n",
    "\n",
    "count_diminutives = []\n",
    "diminutive_sentences = []\n",
    "containing_diminutives = []\n",
    "for sentence in list_dutch_sentences:\n",
    "    for diminutive in diminutives:\n",
    "        if diminutive in sentence:\n",
    "            containing_diminutives.append(sentence)\n",
    "            count_diminutives.append(diminutive)\n",
    "            \n",
    "\n",
    "counts_diminutives = Counter(count_diminutives)\n"
   ]
  },
  {
   "cell_type": "code",
   "execution_count": 22,
   "id": "65712c7c-4933-4f33-b438-1a1f68d8e914",
   "metadata": {},
   "outputs": [
    {
     "data": {
      "image/png": "[encoded data removed]",
      "text/plain": [
       "<Figure size 640x480 with 1 Axes>"
      ]
     },
     "metadata": {},
     "output_type": "display_data"
    }
   ],
   "source": [
    "plot3 = sb.barplot(counts_diminutives)\n"
   ]
  },
  {
   "cell_type": "code",
   "execution_count": 23,
   "id": "aaaba8ef-f45b-414b-8857-460b26fa3b96",
   "metadata": {},
   "outputs": [],
   "source": [
    "# print(containing_diminutives)"
   ]
  },
  {
   "cell_type": "code",
   "execution_count": 24,
   "id": "64ba5ec2-462b-4ec9-9dce-12fd8fcfc0d1",
   "metadata": {},
   "outputs": [],
   "source": [
    "#diminutives_without_je = counts_diminutives.pop('je')\n"
   ]
  },
  {
   "cell_type": "code",
   "execution_count": null,
   "id": "306f70bb-c6c2-4f4c-b2cc-6f6177e31b66",
   "metadata": {},
   "outputs": [],
   "source": []
  },
  {
   "cell_type": "code",
   "execution_count": null,
   "id": "8855a2d0-0292-4a8a-8064-ae55ef66fc2d",
   "metadata": {},
   "outputs": [],
   "source": []
  },
  {
   "cell_type": "code",
   "execution_count": null,
   "id": "3106b333-858e-4e71-b0e2-bc0dbd3cd916",
   "metadata": {},
   "outputs": [],
   "source": []
  },
  {
   "cell_type": "code",
   "execution_count": null,
   "id": "118a971a-d2f7-4245-9528-61a77767e09d",
   "metadata": {},
   "outputs": [],
   "source": []
  },
  {
   "cell_type": "code",
   "execution_count": null,
   "id": "90e58b70-70a4-4e95-9926-08a2d9b6cdac",
   "metadata": {},
   "outputs": [],
   "source": []
  }
 ],
 "metadata": {
  "kernelspec": {
   "display_name": "LaDKernel",
   "language": "python",
   "name": "ladkernel"
  },
  "language_info": {
   "codemirror_mode": {
    "name": "ipython",
    "version": 3
   },
   "file_extension": ".py",
   "mimetype": "text/x-python",
   "name": "python",
   "nbconvert_exporter": "python",
   "pygments_lexer": "ipython3",
   "version": "3.9.20"
  }
 },
 "nbformat": 4,
 "nbformat_minor": 5
}

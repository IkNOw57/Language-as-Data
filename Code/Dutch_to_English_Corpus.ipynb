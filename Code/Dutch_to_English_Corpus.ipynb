{
 "cells": [
  {
   "cell_type": "code",
   "execution_count": 1,
   "id": "779b853e-a227-405a-88a1-974f9eb1eb98",
   "metadata": {},
   "outputs": [],
   "source": [
    "import os\n",
    "import pandas as pd\n",
    "import re\n",
    "import sys\n",
    "import stanza\n",
    "from collections import Counter\n",
    "import pickle\n",
    "from bs4 import BeautifulSoup\n",
    "import statistics\n",
    "directory_1 = r'..\\LaD\\Corpora\\dpc1.0p2\\data\\html\\journ'\n"
   ]
  },
  {
   "cell_type": "code",
   "execution_count": 2,
   "id": "4c4b7f87-7ee4-4069-badd-45e0c51d3258",
   "metadata": {
    "scrolled": true
   },
   "outputs": [
    {
     "data": {
      "application/vnd.jupyter.widget-view+json": {
       "model_id": "1134edbde7e541df86e8f92d0d6a767b",
       "version_major": 2,
       "version_minor": 0
      },
      "text/plain": [
       "Downloading https://raw.githubusercontent.com/stanfordnlp/stanza-resources/main/resources_1.9.0.json:   0%|   …"
      ]
     },
     "metadata": {},
     "output_type": "display_data"
    },
    {
     "name": "stderr",
     "output_type": "stream",
     "text": [
      "2024-12-20 14:38:49 INFO: Downloaded file to C:\\Users\\Ino\\stanza_resources\\resources.json\n",
      "2024-12-20 14:38:49 INFO: Downloading default packages for language: nl (Dutch) ...\n",
      "2024-12-20 14:38:50 INFO: File exists: C:\\Users\\Ino\\stanza_resources\\nl\\default.zip\n",
      "2024-12-20 14:38:52 INFO: Finished downloading models and saved to C:\\Users\\Ino\\stanza_resources\n",
      "2024-12-20 14:38:52 INFO: Checking for updates to resources.json in case models have been updated.  Note: this behavior can be turned off with download_method=None or download_method=DownloadMethod.REUSE_RESOURCES\n"
     ]
    },
    {
     "data": {
      "application/vnd.jupyter.widget-view+json": {
       "model_id": "9ab72697bf4c495ebaa802b1287cda2a",
       "version_major": 2,
       "version_minor": 0
      },
      "text/plain": [
       "Downloading https://raw.githubusercontent.com/stanfordnlp/stanza-resources/main/resources_1.9.0.json:   0%|   …"
      ]
     },
     "metadata": {},
     "output_type": "display_data"
    },
    {
     "name": "stderr",
     "output_type": "stream",
     "text": [
      "2024-12-20 14:38:52 INFO: Downloaded file to C:\\Users\\Ino\\stanza_resources\\resources.json\n",
      "2024-12-20 14:38:53 INFO: Loading these models for language: nl (Dutch):\n",
      "===============================\n",
      "| Processor | Package         |\n",
      "-------------------------------\n",
      "| tokenize  | alpino          |\n",
      "| mwt       | alpino          |\n",
      "| pos       | alpino_charlm   |\n",
      "| lemma     | alpino_nocharlm |\n",
      "| depparse  | alpino_charlm   |\n",
      "| ner       | conll02         |\n",
      "===============================\n",
      "\n",
      "2024-12-20 14:38:53 INFO: Using device: cpu\n",
      "2024-12-20 14:38:53 INFO: Loading: tokenize\n",
      "2024-12-20 14:38:53 INFO: Loading: mwt\n",
      "2024-12-20 14:38:53 INFO: Loading: pos\n",
      "2024-12-20 14:38:53 INFO: Loading: lemma\n",
      "2024-12-20 14:38:53 INFO: Loading: depparse\n",
      "2024-12-20 14:38:54 INFO: Loading: ner\n",
      "2024-12-20 14:38:54 INFO: Done loading processors!\n"
     ]
    }
   ],
   "source": [
    "language = 'nl'\n",
    "stanza.download(language)\n",
    "nlp = stanza.Pipeline(language)"
   ]
  },
  {
   "cell_type": "code",
   "execution_count": 3,
   "id": "ab11c375-b431-48c1-9ac7-af6e789a0d4e",
   "metadata": {},
   "outputs": [],
   "source": [
    "\n",
    "corpus_retry_df = pd.DataFrame(columns=[\"Dutch_Sentence\", \"English_Sentence\", \"Dutch Sentence Length\",\"English Sentence Length\"])\n",
    "index = 0\n",
    "\n",
    "for dir in os.listdir(directory_1):\n",
    "    dir_in_directory = os.listdir(directory_1+\"\\\\\"+dir)\n",
    "    for file in dir_in_directory:\n",
    "        with open(directory_1+\"\\\\\"+dir+\"\\\\\"+file,'r',encoding = 'utf-8') as infile:\n",
    "            content = infile.read()\n",
    "            parser_content = BeautifulSoup(content, 'html5lib')\n",
    "            td_elements = parser_content.find_all('td',valign='top',width='50%')\n",
    "           \n",
    "            for i in range(0,len(td_elements),2):\n",
    "                if i+1 < len(td_elements):\n",
    "                    dutch_sent = td_elements[i].get_text(strip=True)\n",
    "                    english_sent = td_elements[i+1].get_text(strip=True)\n",
    "                    if len(dutch_sent.split(' ')) >4:\n",
    "                        if index == 1000:\n",
    "                            break\n",
    "                        else:\n",
    "                            corpus_retry_df.loc[index]=[dutch_sent,english_sent,len(dutch_sent.split(' ')),len(english_sent.split(' '))]\n",
    "                            index+=1    \n"
   ]
  },
  {
   "cell_type": "code",
   "execution_count": 4,
   "id": "77650d6e-8e30-4acc-a9b4-9ef13fff49e7",
   "metadata": {},
   "outputs": [
    {
     "data": {
      "text/html": [
       "<div>\n",
       "<style scoped>\n",
       "    .dataframe tbody tr th:only-of-type {\n",
       "        vertical-align: middle;\n",
       "    }\n",
       "\n",
       "    .dataframe tbody tr th {\n",
       "        vertical-align: top;\n",
       "    }\n",
       "\n",
       "    .dataframe thead th {\n",
       "        text-align: right;\n",
       "    }\n",
       "</style>\n",
       "<table border=\"1\" class=\"dataframe\">\n",
       "  <thead>\n",
       "    <tr style=\"text-align: right;\">\n",
       "      <th></th>\n",
       "      <th>Dutch_Sentence</th>\n",
       "      <th>English_Sentence</th>\n",
       "      <th>Dutch Sentence Length</th>\n",
       "      <th>English Sentence Length</th>\n",
       "    </tr>\n",
       "  </thead>\n",
       "  <tbody>\n",
       "    <tr>\n",
       "      <th>0</th>\n",
       "      <td>Solidariteitsfonds SOLFA wil gezondheid en zel...</td>\n",
       "      <td>Solidarity Fund SOLFA endeavours to improve he...</td>\n",
       "      <td>7</td>\n",
       "      <td>9</td>\n",
       "    </tr>\n",
       "    <tr>\n",
       "      <th>1</th>\n",
       "      <td>\"Veel Afrikaanse vrouwen gaan naar huis met ee...</td>\n",
       "      <td>\"Many African women return home with a fistula...</td>\n",
       "      <td>12</td>\n",
       "      <td>12</td>\n",
       "    </tr>\n",
       "    <tr>\n",
       "      <th>2</th>\n",
       "      <td>Professor Dirk De Ridder van de Afdeling Urolo...</td>\n",
       "      <td>Professor Dirk De Ridder, from the urology dep...</td>\n",
       "      <td>24</td>\n",
       "      <td>23</td>\n",
       "    </tr>\n",
       "    <tr>\n",
       "      <th>3</th>\n",
       "      <td>Daar is hij vrouwen gaan opereren die door een...</td>\n",
       "      <td>There he operated on women who, as a result of...</td>\n",
       "      <td>18</td>\n",
       "      <td>15</td>\n",
       "    </tr>\n",
       "    <tr>\n",
       "      <th>4</th>\n",
       "      <td>\"Bijna de hele overlevingseconomie in Afrika s...</td>\n",
       "      <td>\"Just about the entire survival economy of Afr...</td>\n",
       "      <td>9</td>\n",
       "      <td>11</td>\n",
       "    </tr>\n",
       "    <tr>\n",
       "      <th>...</th>\n",
       "      <td>...</td>\n",
       "      <td>...</td>\n",
       "      <td>...</td>\n",
       "      <td>...</td>\n",
       "    </tr>\n",
       "    <tr>\n",
       "      <th>995</th>\n",
       "      <td>\"Mijn onderzoek levert nog andere interessante...</td>\n",
       "      <td>\"My research has also produced some other inte...</td>\n",
       "      <td>21</td>\n",
       "      <td>20</td>\n",
       "    </tr>\n",
       "    <tr>\n",
       "      <th>996</th>\n",
       "      <td>27,5 procent is van plan om dikwijls te snel t...</td>\n",
       "      <td>27.5 percent are planning to speed often, whil...</td>\n",
       "      <td>22</td>\n",
       "      <td>22</td>\n",
       "    </tr>\n",
       "    <tr>\n",
       "      <th>997</th>\n",
       "      <td>Bijna een op drie jongeren antwoordt bovendien...</td>\n",
       "      <td>Moreover, nearly one in three young people say...</td>\n",
       "      <td>28</td>\n",
       "      <td>27</td>\n",
       "    </tr>\n",
       "    <tr>\n",
       "      <th>998</th>\n",
       "      <td>In het kader van haar onderzoek ondervroeg Kat...</td>\n",
       "      <td>In the context of her research, Kathleen Beull...</td>\n",
       "      <td>30</td>\n",
       "      <td>35</td>\n",
       "    </tr>\n",
       "    <tr>\n",
       "      <th>999</th>\n",
       "      <td>\"Die resultaten zijn nog niet vrij voor public...</td>\n",
       "      <td>\"The results are not yet cleared for publication.</td>\n",
       "      <td>8</td>\n",
       "      <td>8</td>\n",
       "    </tr>\n",
       "  </tbody>\n",
       "</table>\n",
       "<p>1000 rows × 4 columns</p>\n",
       "</div>"
      ],
      "text/plain": [
       "                                        Dutch_Sentence  \\\n",
       "0    Solidariteitsfonds SOLFA wil gezondheid en zel...   \n",
       "1    \"Veel Afrikaanse vrouwen gaan naar huis met ee...   \n",
       "2    Professor Dirk De Ridder van de Afdeling Urolo...   \n",
       "3    Daar is hij vrouwen gaan opereren die door een...   \n",
       "4    \"Bijna de hele overlevingseconomie in Afrika s...   \n",
       "..                                                 ...   \n",
       "995  \"Mijn onderzoek levert nog andere interessante...   \n",
       "996  27,5 procent is van plan om dikwijls te snel t...   \n",
       "997  Bijna een op drie jongeren antwoordt bovendien...   \n",
       "998  In het kader van haar onderzoek ondervroeg Kat...   \n",
       "999  \"Die resultaten zijn nog niet vrij voor public...   \n",
       "\n",
       "                                      English_Sentence  Dutch Sentence Length  \\\n",
       "0    Solidarity Fund SOLFA endeavours to improve he...                      7   \n",
       "1    \"Many African women return home with a fistula...                     12   \n",
       "2    Professor Dirk De Ridder, from the urology dep...                     24   \n",
       "3    There he operated on women who, as a result of...                     18   \n",
       "4    \"Just about the entire survival economy of Afr...                      9   \n",
       "..                                                 ...                    ...   \n",
       "995  \"My research has also produced some other inte...                     21   \n",
       "996  27.5 percent are planning to speed often, whil...                     22   \n",
       "997  Moreover, nearly one in three young people say...                     28   \n",
       "998  In the context of her research, Kathleen Beull...                     30   \n",
       "999  \"The results are not yet cleared for publication.                      8   \n",
       "\n",
       "     English Sentence Length  \n",
       "0                          9  \n",
       "1                         12  \n",
       "2                         23  \n",
       "3                         15  \n",
       "4                         11  \n",
       "..                       ...  \n",
       "995                       20  \n",
       "996                       22  \n",
       "997                       27  \n",
       "998                       35  \n",
       "999                        8  \n",
       "\n",
       "[1000 rows x 4 columns]"
      ]
     },
     "execution_count": 4,
     "metadata": {},
     "output_type": "execute_result"
    }
   ],
   "source": [
    "corpus_retry_df\n"
   ]
  },
  {
   "cell_type": "code",
   "execution_count": 5,
   "id": "4cf7a007-38bf-4c84-a980-1bf5ecbbab31",
   "metadata": {
    "scrolled": true
   },
   "outputs": [],
   "source": [
    "# pairs = []\n",
    "# for line in lines:\n",
    "#     # print(line)\n",
    "#     splitted_line = re.split(r'\\\"\"',line)6\n",
    "#     if len(splitted_line)==2:\n",
    "#         # if len(splitted_line[0])>6 and len(splitted_line[1])>6: \n",
    "#         pairs.append(splitted_line)\n",
    "        \n",
    "        "
   ]
  },
  {
   "cell_type": "code",
   "execution_count": 6,
   "id": "ed85355a-220b-48ce-b84d-2b80f9ae6e26",
   "metadata": {},
   "outputs": [],
   "source": [
    "# corpus_df = pd.DataFrame(columns=[\"Dutch_Sentence\", \"English_Sentence\", \"Dutch Sentence Length\",\"English Sentence Length\"])\n",
    "# list_dutch_sentences = []\n",
    "# list_english_sentences = []\n",
    "# processed_dutch_sentences = []\n",
    "# processed_english_sentences = []\n",
    "# i=0\n",
    "# for pair in pairs:\n",
    "    \n",
    "#     dutch_sentence = pair[0]\n",
    "#     dutch_sentence = re.sub(r'\\'|\\\"','',dutch_sentence)\n",
    "    \n",
    "#     english_sentence = pair[1]\n",
    "#     english_sentence = re.sub(r'\\'|\\\"','',english_sentence)\n",
    "#     if english_sentence == dutch_sentence:\n",
    "#         continue\n",
    "    \n",
    "#     processed_dutch_sentence = nlp.process(dutch_sentence)\n",
    "#     processed_english_sentence = nlp.process(english_sentence)\n",
    "    \n",
    "#     processed_dutch_sentences.append(processed_dutch_sentence)\n",
    "#     processed_english_sentences.append(processed_english_sentence)\n",
    "    \n",
    "\n",
    "  \n",
    "    \n",
    "#     dutch_sentence_length = len(dutch_sentence.split(' '))\n",
    "#     english_sentence_length = len(english_sentence.split(' '))\n",
    "    \n",
    "#     list_dutch_sentences.append(dutch_sentence)\n",
    "#     list_english_sentences.append(english_sentence)\n",
    "    \n",
    "#     corpus_df.loc[i] = [dutch_sentence,english_sentence,dutch_sentence_length,english_sentence_length]\n",
    "#     i+=1"
   ]
  },
  {
   "cell_type": "code",
   "execution_count": 7,
   "id": "8f4f1546-580f-4e60-a436-8477650ec273",
   "metadata": {},
   "outputs": [],
   "source": [
    "\n",
    "# #idiom_pairs = mt_list\n",
    "# filename ='.\\Corpora\\idiom_pairs.txt'\n",
    "# with open(filename, 'r') as infile:\n",
    "#     idiom_pairs = infile.read()\n",
    "#     idiom_pairs = idiom_pairs.split(\"], [\")\n",
    "# filename ='.\\Corpora\\diminutive_pairs.txt'\n",
    "# with open(filename, 'r') as infile:\n",
    "#     diminutive_pairs = infile.read()\n",
    "#     diminutive_pairs = diminutive_pairs.split(\"], [\")\n",
    "# filename ='.\\Corpora\\modal_particles_pairs.txt'\n",
    "# with open(filename, 'r') as infile:\n",
    "#     modal_particles_pairs = infile.read()\n",
    "#     modal_particles_pairs = modal_particles_pairs.split(\"], [\")\n",
    "\n",
    "# synthethic_pairs = []\n",
    "# # print(type(idiom_pairs))\n",
    "# for pair in idiom_pairs:\n",
    "#     synthethic_pairs = synthethic_pairs + [pair]\n",
    "# for pair in diminutive_pairs:\n",
    "#     # synthethic_pairs.append(pair)\n",
    "#     synthethic_pairs = synthethic_pairs + [pair]\n",
    "# for pair in modal_particles_pairs:\n",
    "#     # synthethic_pairs.append(pair)\n",
    "#     synthethic_pairs = synthethic_pairs + [pair]\n",
    "    \n",
    "\n",
    "# synthetic_df = pd.DataFrame(columns=[\"Dutch_Sentence\", \"English_Sentence\", \"Dutch Sentence Length\",\"English Sentence Length\"])\n",
    "# i=315\n",
    "# for pair in synthethic_pairs:\n",
    "#     if '[[' in pair:\n",
    "#         pair = pair.replace('[[','')\n",
    "#     if ']]' in pair:\n",
    "#         pair = pair.replace(']]','')\n",
    "#     # print(pair)\n",
    "\n",
    "#     pair = re.split(\"\\', '|\\\", \\\"|\\', \\\"\", pair)\n",
    "#     dutch_sentence = pair[0]\n",
    "#     dutch_sentence = re.sub(r'\\'|\\\"','',dutch_sentence)\n",
    "    \n",
    "#     english_sentence = pair[1]\n",
    "#     english_sentence = re.sub(r'\\'|\\\"','',english_sentence)\n",
    "\n",
    "#     if english_sentence == dutch_sentence:\n",
    "#         continue\n",
    "#     dutch_sentence_length = len(dutch_sentence.split(' '))\n",
    "#     english_sentence_length = len(english_sentence.split(' '))\n",
    "    \n",
    "#     processed_dutch_sentences.append(nlp.process(dutch_sentence))\n",
    "#     processed_english_sentences.append(nlp.process(english_sentence))\n",
    "#     list_dutch_sentences.append(dutch_sentence)\n",
    "#     list_english_sentences.append(english_sentence)\n",
    "    \n",
    "#     synthetic_df.loc[i] = [dutch_sentence,english_sentence,dutch_sentence_length,english_sentence_length]\n",
    "#     i+=1"
   ]
  },
  {
   "cell_type": "code",
   "execution_count": 8,
   "id": "48eabbc1-adfc-4826-9663-c679337a71ed",
   "metadata": {},
   "outputs": [],
   "source": [
    "# corpus_df = pd.concat([corpus_df,synthetic_df])"
   ]
  },
  {
   "cell_type": "code",
   "execution_count": 5,
   "id": "d0da7f7c-123e-4b0d-94cc-243c1f0bc089",
   "metadata": {},
   "outputs": [],
   "source": [
    "corpus_retry_df.to_pickle('.\\Corpora\\corpus_df.pkl')\n",
    "# synthetic_df.to_pickle('.\\Corpora\\syhtethic.pkl')"
   ]
  },
  {
   "cell_type": "code",
   "execution_count": 10,
   "id": "eec27874-ee31-4d37-a1de-8ffbd85fef53",
   "metadata": {},
   "outputs": [],
   "source": [
    "\n",
    "# dutch_ttr = []\n",
    "# dutch_avg_sentence_len = []\n",
    "# token_frequencies_dutch = Counter()\n",
    "# english_ttr = []\n",
    "# english_avg_sentence_len = []\n",
    "# token_frequencies_english = Counter()\n",
    "\n",
    "# for article in processed_dutch_sentences:    # Calculate TTR\n",
    "    \n",
    "    \n",
    "#     for sentence in article.sentences:\n",
    "#         all_tokens =[token.text for token in sentence.tokens]\n",
    "#         token_frequencies_dutch.update(all_tokens)\n",
    "\n",
    "#     num_types = len(token_frequencies_dutch.keys())\n",
    "#     num_tokens = sum(token_frequencies_dutch.values())\n",
    "#     tt_ratio = num_types/float(num_tokens)\n",
    "#     dutch_ttr.append(tt_ratio)\n",
    "\n",
    " \n",
    "   \n",
    "\n",
    "# for article in processed_english_sentences:    # Calculate TTR\n",
    "        \n",
    "#     for sentence in article.sentences:\n",
    "#         all_tokens =[token.text for token in sentence.tokens]\n",
    "#         token_frequencies_english.update(all_tokens)\n",
    "\n",
    "#     num_types = len(token_frequencies_english.keys())\n",
    "#     num_tokens = sum(token_frequencies_english.values())\n",
    "#     tt_ratio = num_types/float(num_tokens)\n",
    "#     english_ttr.append(tt_ratio)\n",
    "\n",
    "\n",
    "    \n",
    " "
   ]
  },
  {
   "cell_type": "code",
   "execution_count": 11,
   "id": "53b6038f-577a-48f2-9f61-b7c18199dccf",
   "metadata": {},
   "outputs": [],
   "source": [
    "# print(dutch_ttr)"
   ]
  },
  {
   "cell_type": "code",
   "execution_count": 12,
   "id": "c3224400-b3a4-425b-b091-11160775d3d4",
   "metadata": {},
   "outputs": [],
   "source": [
    "# print(english_ttr)\n"
   ]
  },
  {
   "cell_type": "code",
   "execution_count": 13,
   "id": "de71363f-e4a0-442d-ac90-4ad19dd43c85",
   "metadata": {},
   "outputs": [],
   "source": [
    "# for pair in pairs:\n",
    "#     print(pair,'\\n')"
   ]
  },
  {
   "cell_type": "code",
   "execution_count": 7,
   "id": "e1eb06b1-31d0-4357-872d-de6a83dad110",
   "metadata": {},
   "outputs": [
    {
     "data": {
      "image/png": "[encoded data removed]",
      "text/plain": [
       "<Figure size 500x500 with 1 Axes>"
      ]
     },
     "metadata": {},
     "output_type": "display_data"
    }
   ],
   "source": [
    "import matplotlib.pyplot as plt\n",
    "import seaborn as sb\n",
    "plot = sb.lmplot(corpus_retry_df, x=\"Dutch Sentence Length\", y=\"English Sentence Length\",hue='Dutch Sentence Length',legend = False, fit_reg=False)\n",
    "plot.savefig('./sentence_length.png')"
   ]
  },
  {
   "cell_type": "code",
   "execution_count": 25,
   "id": "f8d55b27-97df-4e93-8145-b9de5eefc2db",
   "metadata": {},
   "outputs": [
    {
     "data": {
      "image/png": "[encoded data removed]",
      "text/plain": [
       "<Figure size 500x500 with 1 Axes>"
      ]
     },
     "metadata": {},
     "output_type": "display_data"
    }
   ],
   "source": [
    "import matplotlib.pyplot as plt\n",
    "import seaborn as sb\n",
    "plot = sb.lmplot(synthetic_df, x=\"Dutch Sentence Length\", y=\"English Sentence Length\",hue='Dutch Sentence Length',legend = False, fit_reg=False)\n",
    "plot.savefig('./sentence_length_2.png')"
   ]
  },
  {
   "cell_type": "code",
   "execution_count": 16,
   "id": "59a1c0f5-a598-4c48-b9a1-1d2f5ff30c76",
   "metadata": {},
   "outputs": [
    {
     "data": {
      "text/html": [
       "<div>\n",
       "<style scoped>\n",
       "    .dataframe tbody tr th:only-of-type {\n",
       "        vertical-align: middle;\n",
       "    }\n",
       "\n",
       "    .dataframe tbody tr th {\n",
       "        vertical-align: top;\n",
       "    }\n",
       "\n",
       "    .dataframe thead th {\n",
       "        text-align: right;\n",
       "    }\n",
       "</style>\n",
       "<table border=\"1\" class=\"dataframe\">\n",
       "  <thead>\n",
       "    <tr style=\"text-align: right;\">\n",
       "      <th></th>\n",
       "      <th>Dutch Sentence Length</th>\n",
       "      <th>English Sentence Length</th>\n",
       "    </tr>\n",
       "  </thead>\n",
       "  <tbody>\n",
       "    <tr>\n",
       "      <th>count</th>\n",
       "      <td>315.000000</td>\n",
       "      <td>315.000000</td>\n",
       "    </tr>\n",
       "    <tr>\n",
       "      <th>mean</th>\n",
       "      <td>16.990476</td>\n",
       "      <td>18.184127</td>\n",
       "    </tr>\n",
       "    <tr>\n",
       "      <th>std</th>\n",
       "      <td>10.740567</td>\n",
       "      <td>11.519206</td>\n",
       "    </tr>\n",
       "    <tr>\n",
       "      <th>min</th>\n",
       "      <td>2.000000</td>\n",
       "      <td>1.000000</td>\n",
       "    </tr>\n",
       "    <tr>\n",
       "      <th>25%</th>\n",
       "      <td>9.000000</td>\n",
       "      <td>10.000000</td>\n",
       "    </tr>\n",
       "    <tr>\n",
       "      <th>50%</th>\n",
       "      <td>15.000000</td>\n",
       "      <td>16.000000</td>\n",
       "    </tr>\n",
       "    <tr>\n",
       "      <th>75%</th>\n",
       "      <td>23.000000</td>\n",
       "      <td>24.000000</td>\n",
       "    </tr>\n",
       "    <tr>\n",
       "      <th>max</th>\n",
       "      <td>67.000000</td>\n",
       "      <td>72.000000</td>\n",
       "    </tr>\n",
       "  </tbody>\n",
       "</table>\n",
       "</div>"
      ],
      "text/plain": [
       "       Dutch Sentence Length  English Sentence Length\n",
       "count             315.000000               315.000000\n",
       "mean               16.990476                18.184127\n",
       "std                10.740567                11.519206\n",
       "min                 2.000000                 1.000000\n",
       "25%                 9.000000                10.000000\n",
       "50%                15.000000                16.000000\n",
       "75%                23.000000                24.000000\n",
       "max                67.000000                72.000000"
      ]
     },
     "execution_count": 16,
     "metadata": {},
     "output_type": "execute_result"
    }
   ],
   "source": [
    "corpus_df.describe()\n"
   ]
  },
  {
   "cell_type": "code",
   "execution_count": 10,
   "id": "4b4f3c86-a48d-400c-95f8-0ca2e994e92c",
   "metadata": {},
   "outputs": [],
   "source": [
    "modal_particles = ['maar','toch','nou','wel','even','eens','gewoon','misschien','soms']\n",
    "# pattern = 'eens'\n",
    "str_dutch_sentences = corpus_retry_df['Dutch_Sentence']\n",
    "count_particle = []\n",
    "containing_pattern = []\n",
    "for sentence in str_dutch_sentences:\n",
    "    for particle in modal_particles:\n",
    "        if particle in sentence:\n",
    "            containing_pattern.append(sentence)\n",
    "            count_particle.append(particle)\n",
    "    "
   ]
  },
  {
   "cell_type": "code",
   "execution_count": 11,
   "id": "cc1ad57d-dcf1-4dea-96fa-3edd5b0ca5bc",
   "metadata": {},
   "outputs": [
    {
     "name": "stdout",
     "output_type": "stream",
     "text": [
      "303\n",
      "303\n"
     ]
    }
   ],
   "source": [
    "print(len(containing_pattern))\n",
    "print(len(count_particle))"
   ]
  },
  {
   "cell_type": "code",
   "execution_count": 12,
   "id": "9277c337-1ff9-420e-aaec-5aaa4ef7e975",
   "metadata": {},
   "outputs": [],
   "source": [
    "from collections import Counter\n",
    "counts_particle = Counter(count_particle)\n",
    "counts_label = counts_particle.keys()\n"
   ]
  },
  {
   "cell_type": "code",
   "execution_count": 21,
   "id": "998392e2-eaa9-4d27-9867-5a12e5572b24",
   "metadata": {},
   "outputs": [
    {
     "data": {
      "image/png": "[encoded data removed]",
      "text/plain": [
       "<Figure size 640x480 with 1 Axes>"
      ]
     },
     "metadata": {},
     "output_type": "display_data"
    }
   ],
   "source": [
    "plot2_counts =sb.barplot(counts_particle)\n",
    "plot2= plot2_counts.get_figure()\n",
    "plot2.savefig('./counts_particle.png')"
   ]
  },
  {
   "cell_type": "code",
   "execution_count": 14,
   "id": "764f3de1-3986-440e-b16a-7212f4f1053a",
   "metadata": {},
   "outputs": [],
   "source": [
    "diminutives = ['tje','pje','kje','je','etje']\n",
    "\n",
    "count_diminutives = []\n",
    "diminutive_sentences = []\n",
    "containing_diminutives = []\n",
    "for sentence in str_dutch_sentences:\n",
    "    for diminutive in diminutives:\n",
    "        if diminutive in sentence:\n",
    "            containing_diminutives.append(sentence)\n",
    "            count_diminutives.append(diminutive)\n",
    "            \n",
    "\n",
    "counts_diminutives = Counter(count_diminutives)\n"
   ]
  },
  {
   "cell_type": "code",
   "execution_count": 22,
   "id": "65712c7c-4933-4f33-b438-1a1f68d8e914",
   "metadata": {},
   "outputs": [
    {
     "data": {
      "image/png": "[encoded data removed]",
      "text/plain": [
       "<Figure size 640x480 with 1 Axes>"
      ]
     },
     "metadata": {},
     "output_type": "display_data"
    }
   ],
   "source": [
    "plot3_counts = sb.barplot(counts_diminutives)\n",
    "plot3 = plot3_counts.get_figure()\n",
    "plot3.savefig('./counts_diminutives.png')"
   ]
  },
  {
   "cell_type": "code",
   "execution_count": 23,
   "id": "aaaba8ef-f45b-414b-8857-460b26fa3b96",
   "metadata": {},
   "outputs": [],
   "source": [
    "# print(containing_diminutives)"
   ]
  },
  {
   "cell_type": "code",
   "execution_count": 24,
   "id": "64ba5ec2-462b-4ec9-9dce-12fd8fcfc0d1",
   "metadata": {},
   "outputs": [],
   "source": [
    "#diminutives_without_je = counts_diminutives.pop('je')\n"
   ]
  },
  {
   "cell_type": "code",
   "execution_count": null,
   "id": "306f70bb-c6c2-4f4c-b2cc-6f6177e31b66",
   "metadata": {},
   "outputs": [],
   "source": []
  },
  {
   "cell_type": "code",
   "execution_count": null,
   "id": "8855a2d0-0292-4a8a-8064-ae55ef66fc2d",
   "metadata": {},
   "outputs": [],
   "source": []
  },
  {
   "cell_type": "code",
   "execution_count": null,
   "id": "3106b333-858e-4e71-b0e2-bc0dbd3cd916",
   "metadata": {},
   "outputs": [],
   "source": []
  },
  {
   "cell_type": "code",
   "execution_count": null,
   "id": "118a971a-d2f7-4245-9528-61a77767e09d",
   "metadata": {},
   "outputs": [],
   "source": []
  },
  {
   "cell_type": "code",
   "execution_count": null,
   "id": "90e58b70-70a4-4e95-9926-08a2d9b6cdac",
   "metadata": {},
   "outputs": [],
   "source": []
  }
 ],
 "metadata": {
  "kernelspec": {
   "display_name": "LaDKernel_1",
   "language": "python",
   "name": "ladkernel_1"
  },
  "language_info": {
   "codemirror_mode": {
    "name": "ipython",
    "version": 3
   },
   "file_extension": ".py",
   "mimetype": "text/x-python",
   "name": "python",
   "nbconvert_exporter": "python",
   "pygments_lexer": "ipython3",
   "version": "3.9.20"
  }
 },
 "nbformat": 4,
 "nbformat_minor": 5
}
